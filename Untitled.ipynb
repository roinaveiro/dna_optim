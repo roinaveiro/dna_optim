{
 "cells": [
  {
   "cell_type": "code",
   "execution_count": 23,
   "id": "122becaf",
   "metadata": {},
   "outputs": [],
   "source": [
    "import numpy as np\n",
    "import pandas as pd"
   ]
  },
  {
   "cell_type": "code",
   "execution_count": 33,
   "id": "acab589b",
   "metadata": {},
   "outputs": [],
   "source": [
    "top1 = pd.read_csv(\"results/top1.csv\")\n",
    "top2 = pd.read_csv(\"results/top2.csv\")\n",
    "top1.Sample = top1.Sample.apply(lambda x: x[4:])\n",
    "top1.Sample = top1.Sample.astype(int)"
   ]
  },
  {
   "cell_type": "code",
   "execution_count": 47,
   "id": "4def59f5",
   "metadata": {},
   "outputs": [
    {
     "data": {
      "text/plain": [
       "28718911"
      ]
     },
     "execution_count": 47,
     "metadata": {},
     "output_type": "execute_result"
    }
   ],
   "source": [
    "top1 = pd.read_csv(\"results/top1.csv\")\n",
    "top2.iloc[:, 0].max()"
   ]
  }
 ],
 "metadata": {
  "kernelspec": {
   "display_name": "Python 3 (ipykernel)",
   "language": "python",
   "name": "python3"
  },
  "language_info": {
   "codemirror_mode": {
    "name": "ipython",
    "version": 3
   },
   "file_extension": ".py",
   "mimetype": "text/x-python",
   "name": "python",
   "nbconvert_exporter": "python",
   "pygments_lexer": "ipython3",
   "version": "3.10.8"
  }
 },
 "nbformat": 4,
 "nbformat_minor": 5
}
